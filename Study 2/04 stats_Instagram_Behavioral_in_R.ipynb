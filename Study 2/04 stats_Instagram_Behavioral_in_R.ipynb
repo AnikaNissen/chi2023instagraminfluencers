{
 "cells": [
  {
   "cell_type": "markdown",
   "id": "c9b82fa6-10ab-4f20-bf9e-876108fb7ae4",
   "metadata": {},
   "source": [
    "# Group Level Analyses for the Behavioral Data\n",
    "*Paper:* Are You Human?  Investigating the Perceptions and Evaluations of Virtual Versus Human Instagram Influencers\n",
    "\n",
    "*Authors:* Anika Nissen, Colin Conrad, and Aaron Newman\n",
    "\n",
    "If any of these don't load, you'll need to install them. Assuming you installed Jupyter through Anaconda, you would do the following to install a package\n",
    "`conda install -c r r-[pkgName]`\n",
    "e.g., to install ggplot2 you would do:\n",
    "`conda install -c r r-ggplot2`"
   ]
  },
  {
   "cell_type": "code",
   "execution_count": 1,
   "id": "9fd0f818-7993-47f6-9b53-bd1e82b22107",
   "metadata": {},
   "outputs": [
    {
     "data": {
      "text/html": [
       "'/Users/anikanissen/opt/anaconda3/envs/fNIRSDataAnalysis/lib/R'"
      ],
      "text/latex": [
       "'/Users/anikanissen/opt/anaconda3/envs/fNIRSDataAnalysis/lib/R'"
      ],
      "text/markdown": [
       "'/Users/anikanissen/opt/anaconda3/envs/fNIRSDataAnalysis/lib/R'"
      ],
      "text/plain": [
       "[1] \"/Users/anikanissen/opt/anaconda3/envs/fNIRSDataAnalysis/lib/R\""
      ]
     },
     "metadata": {},
     "output_type": "display_data"
    }
   ],
   "source": [
    "R.home()"
   ]
  },
  {
   "cell_type": "code",
   "execution_count": 2,
   "id": "293b4ef3-0f76-47b5-b3b1-7edbba62fdf7",
   "metadata": {
    "scrolled": false
   },
   "outputs": [
    {
     "name": "stderr",
     "output_type": "stream",
     "text": [
      "Warning message:\n",
      "“package ‘ggplot2’ was built under R version 4.0.5”\n",
      "Warning message:\n",
      "“package ‘plyr’ was built under R version 4.0.5”\n",
      "\n",
      "Attaching package: ‘psych’\n",
      "\n",
      "\n",
      "The following objects are masked from ‘package:ggplot2’:\n",
      "\n",
      "    %+%, alpha\n",
      "\n",
      "\n"
     ]
    }
   ],
   "source": [
    "library(ggplot2)\n",
    "library(plyr)\n",
    "library(tidyr)\n",
    "library(psych)\n",
    "library(ggthemes)\n",
    "library(nlme)"
   ]
  },
  {
   "cell_type": "code",
   "execution_count": 3,
   "id": "50b401da-1f9b-41c2-939e-f855f2f73051",
   "metadata": {},
   "outputs": [],
   "source": [
    "# num parallel processes for bam(). Should be less than the number of threads supported by your CPU\n",
    "num_cores = 8\n",
    "\n",
    "options(\"scipen\"=100, \"digits\"=5)  # force decimal instead of scientific notation"
   ]
  },
  {
   "cell_type": "markdown",
   "id": "0abe2567-68cf-4bb5-9360-67a7f8f0a276",
   "metadata": {},
   "source": [
    "# Load the data from the CSV-file and run the analyses\n",
    "Keep in mind that you may need to change the filepath to the csv data to read it in."
   ]
  },
  {
   "cell_type": "code",
   "execution_count": 4,
   "id": "fe441690-5ab8-43c7-a0cc-5a14edfaffe7",
   "metadata": {},
   "outputs": [
    {
     "data": {
      "text/html": [
       "<table class=\"dataframe\">\n",
       "<caption>A data.frame: 6 × 6</caption>\n",
       "<thead>\n",
       "\t<tr><th></th><th scope=col>participant</th><th scope=col>condition</th><th scope=col>human</th><th scope=col>trust</th><th scope=col>uncanny</th><th scope=col>use</th></tr>\n",
       "\t<tr><th></th><th scope=col>&lt;chr&gt;</th><th scope=col>&lt;chr&gt;</th><th scope=col>&lt;dbl&gt;</th><th scope=col>&lt;dbl&gt;</th><th scope=col>&lt;dbl&gt;</th><th scope=col>&lt;dbl&gt;</th></tr>\n",
       "</thead>\n",
       "<tbody>\n",
       "\t<tr><th scope=row>1</th><td>ID01</td><td>HI</td><td>4.5</td><td>2.9</td><td>1.9</td><td>3.2</td></tr>\n",
       "\t<tr><th scope=row>2</th><td>ID01</td><td>VI</td><td>3.0</td><td>2.1</td><td>2.9</td><td>2.1</td></tr>\n",
       "\t<tr><th scope=row>3</th><td>ID02</td><td>HI</td><td>3.9</td><td>2.8</td><td>2.0</td><td>1.7</td></tr>\n",
       "\t<tr><th scope=row>4</th><td>ID02</td><td>VI</td><td>2.3</td><td>1.5</td><td>3.4</td><td>1.3</td></tr>\n",
       "\t<tr><th scope=row>5</th><td>ID03</td><td>HI</td><td>4.4</td><td>3.0</td><td>2.1</td><td>1.9</td></tr>\n",
       "\t<tr><th scope=row>6</th><td>ID03</td><td>VI</td><td>2.7</td><td>2.4</td><td>3.0</td><td>1.8</td></tr>\n",
       "</tbody>\n",
       "</table>\n"
      ],
      "text/latex": [
       "A data.frame: 6 × 6\n",
       "\\begin{tabular}{r|llllll}\n",
       "  & participant & condition & human & trust & uncanny & use\\\\\n",
       "  & <chr> & <chr> & <dbl> & <dbl> & <dbl> & <dbl>\\\\\n",
       "\\hline\n",
       "\t1 & ID01 & HI & 4.5 & 2.9 & 1.9 & 3.2\\\\\n",
       "\t2 & ID01 & VI & 3.0 & 2.1 & 2.9 & 2.1\\\\\n",
       "\t3 & ID02 & HI & 3.9 & 2.8 & 2.0 & 1.7\\\\\n",
       "\t4 & ID02 & VI & 2.3 & 1.5 & 3.4 & 1.3\\\\\n",
       "\t5 & ID03 & HI & 4.4 & 3.0 & 2.1 & 1.9\\\\\n",
       "\t6 & ID03 & VI & 2.7 & 2.4 & 3.0 & 1.8\\\\\n",
       "\\end{tabular}\n"
      ],
      "text/markdown": [
       "\n",
       "A data.frame: 6 × 6\n",
       "\n",
       "| <!--/--> | participant &lt;chr&gt; | condition &lt;chr&gt; | human &lt;dbl&gt; | trust &lt;dbl&gt; | uncanny &lt;dbl&gt; | use &lt;dbl&gt; |\n",
       "|---|---|---|---|---|---|---|\n",
       "| 1 | ID01 | HI | 4.5 | 2.9 | 1.9 | 3.2 |\n",
       "| 2 | ID01 | VI | 3.0 | 2.1 | 2.9 | 2.1 |\n",
       "| 3 | ID02 | HI | 3.9 | 2.8 | 2.0 | 1.7 |\n",
       "| 4 | ID02 | VI | 2.3 | 1.5 | 3.4 | 1.3 |\n",
       "| 5 | ID03 | HI | 4.4 | 3.0 | 2.1 | 1.9 |\n",
       "| 6 | ID03 | VI | 2.7 | 2.4 | 3.0 | 1.8 |\n",
       "\n"
      ],
      "text/plain": [
       "  participant condition human trust uncanny use\n",
       "1 ID01        HI        4.5   2.9   1.9     3.2\n",
       "2 ID01        VI        3.0   2.1   2.9     2.1\n",
       "3 ID02        HI        3.9   2.8   2.0     1.7\n",
       "4 ID02        VI        2.3   1.5   3.4     1.3\n",
       "5 ID03        HI        4.4   3.0   2.1     1.9\n",
       "6 ID03        VI        2.7   2.4   3.0     1.8"
      ]
     },
     "metadata": {},
     "output_type": "display_data"
    }
   ],
   "source": [
    "# Behavioral Data was prepared in our \"stats_Instagram_Behavioral_Analyses\"-Script\n",
    "data <- read.csv(\"./Behavioral data/Results/total_behavioral_data_new.csv\")\n",
    "head(data)"
   ]
  },
  {
   "cell_type": "code",
   "execution_count": 5,
   "id": "85c7c3e3-d647-438c-ad49-1ef5d4d60e1c",
   "metadata": {},
   "outputs": [],
   "source": [
    "data$condition <- as.factor(data$macrocondition)"
   ]
  },
  {
   "cell_type": "markdown",
   "id": "abc029d2-185e-45b9-ab4c-6daef673870e",
   "metadata": {},
   "source": [
    "### Mixed-Effects of Humanness"
   ]
  },
  {
   "cell_type": "code",
   "execution_count": 7,
   "id": "b9157232-c2b4-4745-acfb-4cc12bf89b85",
   "metadata": {},
   "outputs": [
    {
     "data": {
      "text/plain": [
       "Linear mixed-effects model fit by REML\n",
       "  Data: data \n",
       "     AIC    BIC logLik\n",
       "  80.121 87.071 -36.06\n",
       "\n",
       "Random effects:\n",
       " Formula: ~1 | participant\n",
       "        (Intercept) Residual\n",
       "StdDev:    0.080448  0.52443\n",
       "\n",
       "Fixed effects:  human ~ condition \n",
       "              Value Std.Error DF t-value p-value\n",
       "(Intercept)  4.1591   0.11312 21  36.768       0\n",
       "conditionVI -1.9636   0.15812 21 -12.419       0\n",
       " Correlation: \n",
       "            (Intr)\n",
       "conditionVI -0.699\n",
       "\n",
       "Standardized Within-Group Residuals:\n",
       "      Min        Q1       Med        Q3       Max \n",
       "-2.152163 -0.776714  0.024247  0.770724  1.532971 \n",
       "\n",
       "Number of Observations: 44\n",
       "Number of Groups: 22 "
      ]
     },
     "metadata": {},
     "output_type": "display_data"
    },
    {
     "data": {
      "text/html": [
       "<table class=\"dataframe\">\n",
       "<caption>A anova.lme: 2 × 4</caption>\n",
       "<thead>\n",
       "\t<tr><th></th><th scope=col>numDF</th><th scope=col>denDF</th><th scope=col>F-value</th><th scope=col>p-value</th></tr>\n",
       "\t<tr><th></th><th scope=col>&lt;int&gt;</th><th scope=col>&lt;dbl&gt;</th><th scope=col>&lt;dbl&gt;</th><th scope=col>&lt;dbl&gt;</th></tr>\n",
       "</thead>\n",
       "<tbody>\n",
       "\t<tr><th scope=row>(Intercept)</th><td>1</td><td>21</td><td>1542.49</td><td>0.000000000000000</td></tr>\n",
       "\t<tr><th scope=row>condition</th><td>1</td><td>21</td><td> 154.22</td><td>0.000000000038588</td></tr>\n",
       "</tbody>\n",
       "</table>\n"
      ],
      "text/latex": [
       "A anova.lme: 2 × 4\n",
       "\\begin{tabular}{r|llll}\n",
       "  & numDF & denDF & F-value & p-value\\\\\n",
       "  & <int> & <dbl> & <dbl> & <dbl>\\\\\n",
       "\\hline\n",
       "\t(Intercept) & 1 & 21 & 1542.49 & 0.000000000000000\\\\\n",
       "\tcondition & 1 & 21 &  154.22 & 0.000000000038588\\\\\n",
       "\\end{tabular}\n"
      ],
      "text/markdown": [
       "\n",
       "A anova.lme: 2 × 4\n",
       "\n",
       "| <!--/--> | numDF &lt;int&gt; | denDF &lt;dbl&gt; | F-value &lt;dbl&gt; | p-value &lt;dbl&gt; |\n",
       "|---|---|---|---|---|\n",
       "| (Intercept) | 1 | 21 | 1542.49 | 0.000000000000000 |\n",
       "| condition | 1 | 21 |  154.22 | 0.000000000038588 |\n",
       "\n"
      ],
      "text/plain": [
       "            numDF denDF F-value p-value          \n",
       "(Intercept) 1     21    1542.49 0.000000000000000\n",
       "condition   1     21     154.22 0.000000000038588"
      ]
     },
     "metadata": {},
     "output_type": "display_data"
    }
   ],
   "source": [
    "data$condition <- relevel(data$condition, 'HI')\n",
    "\n",
    "human_mixed1 <- lme(human ~ condition,random=~1|participant,data=data)\n",
    "summary(human_mixed1)\n",
    "anova(human_mixed1)"
   ]
  },
  {
   "cell_type": "markdown",
   "id": "b98e5a55-e684-46ff-8c9d-6fcf9c2f0c1c",
   "metadata": {},
   "source": [
    "### Mixed-Effects of Perceived Trust"
   ]
  },
  {
   "cell_type": "code",
   "execution_count": 7,
   "id": "56e6b5f6-d426-4aa5-9038-ca5fddfac3d8",
   "metadata": {},
   "outputs": [
    {
     "data": {
      "text/plain": [
       "Linear mixed-effects model fit by REML\n",
       "  Data: data \n",
       "     AIC    BIC  logLik\n",
       "  81.028 87.979 -36.514\n",
       "\n",
       "Random effects:\n",
       " Formula: ~1 | participant\n",
       "        (Intercept) Residual\n",
       "StdDev:     0.37039  0.42594\n",
       "\n",
       "Fixed effects:  trust ~ condition \n",
       "              Value Std.Error DF t-value p-value\n",
       "(Intercept)  3.1364   0.12034 21  26.062       0\n",
       "conditionVI -1.3000   0.12843 21 -10.123       0\n",
       " Correlation: \n",
       "            (Intr)\n",
       "conditionVI -0.534\n",
       "\n",
       "Standardized Within-Group Residuals:\n",
       "      Min        Q1       Med        Q3       Max \n",
       "-2.071681 -0.602673  0.013891  0.637833  1.561551 \n",
       "\n",
       "Number of Observations: 44\n",
       "Number of Groups: 22 "
      ]
     },
     "metadata": {},
     "output_type": "display_data"
    },
    {
     "data": {
      "text/html": [
       "<table class=\"dataframe\">\n",
       "<caption>A anova.lme: 2 × 4</caption>\n",
       "<thead>\n",
       "\t<tr><th></th><th scope=col>numDF</th><th scope=col>denDF</th><th scope=col>F-value</th><th scope=col>p-value</th></tr>\n",
       "\t<tr><th></th><th scope=col>&lt;int&gt;</th><th scope=col>&lt;dbl&gt;</th><th scope=col>&lt;dbl&gt;</th><th scope=col>&lt;dbl&gt;</th></tr>\n",
       "</thead>\n",
       "<tbody>\n",
       "\t<tr><th scope=row>(Intercept)</th><td>1</td><td>21</td><td>596.77</td><td>0.0000000000000</td></tr>\n",
       "\t<tr><th scope=row>condition</th><td>1</td><td>21</td><td>102.46</td><td>0.0000000015648</td></tr>\n",
       "</tbody>\n",
       "</table>\n"
      ],
      "text/latex": [
       "A anova.lme: 2 × 4\n",
       "\\begin{tabular}{r|llll}\n",
       "  & numDF & denDF & F-value & p-value\\\\\n",
       "  & <int> & <dbl> & <dbl> & <dbl>\\\\\n",
       "\\hline\n",
       "\t(Intercept) & 1 & 21 & 596.77 & 0.0000000000000\\\\\n",
       "\tcondition & 1 & 21 & 102.46 & 0.0000000015648\\\\\n",
       "\\end{tabular}\n"
      ],
      "text/markdown": [
       "\n",
       "A anova.lme: 2 × 4\n",
       "\n",
       "| <!--/--> | numDF &lt;int&gt; | denDF &lt;dbl&gt; | F-value &lt;dbl&gt; | p-value &lt;dbl&gt; |\n",
       "|---|---|---|---|---|\n",
       "| (Intercept) | 1 | 21 | 596.77 | 0.0000000000000 |\n",
       "| condition | 1 | 21 | 102.46 | 0.0000000015648 |\n",
       "\n"
      ],
      "text/plain": [
       "            numDF denDF F-value p-value        \n",
       "(Intercept) 1     21    596.77  0.0000000000000\n",
       "condition   1     21    102.46  0.0000000015648"
      ]
     },
     "metadata": {},
     "output_type": "display_data"
    }
   ],
   "source": [
    "trust_mixed1 <- lme(trust ~ condition,random=~1|participant,data=data)\n",
    "summary(trust_mixed1)\n",
    "anova(trust_mixed1)"
   ]
  },
  {
   "cell_type": "markdown",
   "id": "4efb4c0e-642e-4733-afae-f329653ca424",
   "metadata": {},
   "source": [
    "### Mixed-Effects of Perceived Uncanniness"
   ]
  },
  {
   "cell_type": "code",
   "execution_count": 8,
   "id": "88507d7f-3d21-487f-95bb-192dbb97aeec",
   "metadata": {},
   "outputs": [
    {
     "data": {
      "text/plain": [
       "Linear mixed-effects model fit by REML\n",
       "  Data: data \n",
       "     AIC    BIC  logLik\n",
       "  80.684 87.634 -36.342\n",
       "\n",
       "Random effects:\n",
       " Formula: ~1 | participant\n",
       "        (Intercept) Residual\n",
       "StdDev: 0.000024954  0.53406\n",
       "\n",
       "Fixed effects:  uncanny ~ condition \n",
       "             Value Std.Error DF t-value p-value\n",
       "(Intercept) 2.1955   0.11386 21 19.2818       0\n",
       "conditionVI 1.4000   0.16102 21  8.6943       0\n",
       " Correlation: \n",
       "            (Intr)\n",
       "conditionVI -0.707\n",
       "\n",
       "Standardized Within-Group Residuals:\n",
       "       Min         Q1        Med         Q3        Max \n",
       "-2.0511956 -0.5532270  0.0085112  0.3830033  2.2554640 \n",
       "\n",
       "Number of Observations: 44\n",
       "Number of Groups: 22 "
      ]
     },
     "metadata": {},
     "output_type": "display_data"
    },
    {
     "data": {
      "text/html": [
       "<table class=\"dataframe\">\n",
       "<caption>A anova.lme: 2 × 4</caption>\n",
       "<thead>\n",
       "\t<tr><th></th><th scope=col>numDF</th><th scope=col>denDF</th><th scope=col>F-value</th><th scope=col>p-value</th></tr>\n",
       "\t<tr><th></th><th scope=col>&lt;int&gt;</th><th scope=col>&lt;dbl&gt;</th><th scope=col>&lt;dbl&gt;</th><th scope=col>&lt;dbl&gt;</th></tr>\n",
       "</thead>\n",
       "<tbody>\n",
       "\t<tr><th scope=row>(Intercept)</th><td>1</td><td>21</td><td>1293.337</td><td>0.000000000000</td></tr>\n",
       "\t<tr><th scope=row>condition</th><td>1</td><td>21</td><td>  75.592</td><td>0.000000021146</td></tr>\n",
       "</tbody>\n",
       "</table>\n"
      ],
      "text/latex": [
       "A anova.lme: 2 × 4\n",
       "\\begin{tabular}{r|llll}\n",
       "  & numDF & denDF & F-value & p-value\\\\\n",
       "  & <int> & <dbl> & <dbl> & <dbl>\\\\\n",
       "\\hline\n",
       "\t(Intercept) & 1 & 21 & 1293.337 & 0.000000000000\\\\\n",
       "\tcondition & 1 & 21 &   75.592 & 0.000000021146\\\\\n",
       "\\end{tabular}\n"
      ],
      "text/markdown": [
       "\n",
       "A anova.lme: 2 × 4\n",
       "\n",
       "| <!--/--> | numDF &lt;int&gt; | denDF &lt;dbl&gt; | F-value &lt;dbl&gt; | p-value &lt;dbl&gt; |\n",
       "|---|---|---|---|---|\n",
       "| (Intercept) | 1 | 21 | 1293.337 | 0.000000000000 |\n",
       "| condition | 1 | 21 |   75.592 | 0.000000021146 |\n",
       "\n"
      ],
      "text/plain": [
       "            numDF denDF F-value  p-value       \n",
       "(Intercept) 1     21    1293.337 0.000000000000\n",
       "condition   1     21      75.592 0.000000021146"
      ]
     },
     "metadata": {},
     "output_type": "display_data"
    }
   ],
   "source": [
    "uncanny_mixed1 <- lme(uncanny ~ condition,random=~1|participant,data=data)\n",
    "summary(uncanny_mixed1)\n",
    "anova(uncanny_mixed1)"
   ]
  },
  {
   "cell_type": "markdown",
   "id": "119914c2-be7d-4562-abe1-e5e85ded13b8",
   "metadata": {},
   "source": [
    "### Mixed-Effects of Intention to Follow the Influencer's Recommendations"
   ]
  },
  {
   "cell_type": "code",
   "execution_count": 9,
   "id": "fc7945cf-eb55-4ad6-a294-b7dac27af704",
   "metadata": {},
   "outputs": [
    {
     "data": {
      "text/plain": [
       "Linear mixed-effects model fit by REML\n",
       "  Data: data \n",
       "     AIC    BIC  logLik\n",
       "  85.053 92.004 -38.527\n",
       "\n",
       "Random effects:\n",
       " Formula: ~1 | participant\n",
       "        (Intercept) Residual\n",
       "StdDev:     0.48457  0.39909\n",
       "\n",
       "Fixed effects:  use ~ condition \n",
       "              Value Std.Error DF t-value p-value\n",
       "(Intercept)  2.7727   0.13384 21 20.7170       0\n",
       "conditionVI -1.0046   0.12033 21 -8.3482       0\n",
       " Correlation: \n",
       "            (Intr)\n",
       "conditionVI -0.45 \n",
       "\n",
       "Standardized Within-Group Residuals:\n",
       "      Min        Q1       Med        Q3       Max \n",
       "-1.687282 -0.591999  0.087905  0.473535  1.803673 \n",
       "\n",
       "Number of Observations: 44\n",
       "Number of Groups: 22 "
      ]
     },
     "metadata": {},
     "output_type": "display_data"
    },
    {
     "data": {
      "text/html": [
       "<table class=\"dataframe\">\n",
       "<caption>A anova.lme: 2 × 4</caption>\n",
       "<thead>\n",
       "\t<tr><th></th><th scope=col>numDF</th><th scope=col>denDF</th><th scope=col>F-value</th><th scope=col>p-value</th></tr>\n",
       "\t<tr><th></th><th scope=col>&lt;int&gt;</th><th scope=col>&lt;dbl&gt;</th><th scope=col>&lt;dbl&gt;</th><th scope=col>&lt;dbl&gt;</th></tr>\n",
       "</thead>\n",
       "<tbody>\n",
       "\t<tr><th scope=row>(Intercept)</th><td>1</td><td>21</td><td>360.667</td><td>0.000000000000010547</td></tr>\n",
       "\t<tr><th scope=row>condition</th><td>1</td><td>21</td><td> 69.692</td><td>0.000000041318106936</td></tr>\n",
       "</tbody>\n",
       "</table>\n"
      ],
      "text/latex": [
       "A anova.lme: 2 × 4\n",
       "\\begin{tabular}{r|llll}\n",
       "  & numDF & denDF & F-value & p-value\\\\\n",
       "  & <int> & <dbl> & <dbl> & <dbl>\\\\\n",
       "\\hline\n",
       "\t(Intercept) & 1 & 21 & 360.667 & 0.000000000000010547\\\\\n",
       "\tcondition & 1 & 21 &  69.692 & 0.000000041318106936\\\\\n",
       "\\end{tabular}\n"
      ],
      "text/markdown": [
       "\n",
       "A anova.lme: 2 × 4\n",
       "\n",
       "| <!--/--> | numDF &lt;int&gt; | denDF &lt;dbl&gt; | F-value &lt;dbl&gt; | p-value &lt;dbl&gt; |\n",
       "|---|---|---|---|---|\n",
       "| (Intercept) | 1 | 21 | 360.667 | 0.000000000000010547 |\n",
       "| condition | 1 | 21 |  69.692 | 0.000000041318106936 |\n",
       "\n"
      ],
      "text/plain": [
       "            numDF denDF F-value p-value             \n",
       "(Intercept) 1     21    360.667 0.000000000000010547\n",
       "condition   1     21     69.692 0.000000041318106936"
      ]
     },
     "metadata": {},
     "output_type": "display_data"
    }
   ],
   "source": [
    "use_mixed1 <- lme(use ~ condition,random=~1|participant,data=data)\n",
    "summary(use_mixed1)\n",
    "anova(use_mixed1)"
   ]
  },
  {
   "cell_type": "markdown",
   "id": "e5cf2a56-9047-4d67-8e64-232cf925a1f5",
   "metadata": {},
   "source": [
    "## Reaction Times/ Input Times to rate the above analyzed results:"
   ]
  },
  {
   "cell_type": "code",
   "execution_count": 10,
   "id": "7cc21f23-c27f-4bcc-ba87-f97f38d4246c",
   "metadata": {},
   "outputs": [],
   "source": [
    "# Behavioral Data on Reaction Times was also prepared in our \"stats_Instagram_Behavioral_Analyses\"-Script\n",
    "data <- read.csv(\"./Behavioral data/Results/total_behavioral_data_LikertreactionTimes.csv\")\n",
    "\n",
    "data$condition <- as.factor(data$condition)"
   ]
  },
  {
   "cell_type": "markdown",
   "id": "194aa22f-85a4-410b-b74d-e3d408e91970",
   "metadata": {},
   "source": [
    "### Mixed-Effects of Humanness"
   ]
  },
  {
   "cell_type": "code",
   "execution_count": 11,
   "id": "5b005a7b-2c37-4a10-a095-e36381f30732",
   "metadata": {},
   "outputs": [
    {
     "data": {
      "text/plain": [
       "Linear mixed-effects model fit by REML\n",
       "  Data: data \n",
       "     AIC    BIC  logLik\n",
       "  118.41 125.36 -55.205\n",
       "\n",
       "Random effects:\n",
       " Formula: ~1 | participant\n",
       "        (Intercept) Residual\n",
       "StdDev:     0.85512  0.53033\n",
       "\n",
       "Fixed effects:  human ~ condition \n",
       "              Value Std.Error DF t-value p-value\n",
       "(Intercept) 2.70009   0.21453 21 12.5863  0.0000\n",
       "conditionVI 0.15955   0.15990 21  0.9978  0.3297\n",
       " Correlation: \n",
       "            (Intr)\n",
       "conditionVI -0.373\n",
       "\n",
       "Standardized Within-Group Residuals:\n",
       "     Min       Q1      Med       Q3      Max \n",
       "-1.21861 -0.55220 -0.14225  0.46987  2.01990 \n",
       "\n",
       "Number of Observations: 44\n",
       "Number of Groups: 22 "
      ]
     },
     "metadata": {},
     "output_type": "display_data"
    },
    {
     "data": {
      "text/html": [
       "<table class=\"dataframe\">\n",
       "<caption>A anova.lme: 2 × 4</caption>\n",
       "<thead>\n",
       "\t<tr><th></th><th scope=col>numDF</th><th scope=col>denDF</th><th scope=col>F-value</th><th scope=col>p-value</th></tr>\n",
       "\t<tr><th></th><th scope=col>&lt;int&gt;</th><th scope=col>&lt;dbl&gt;</th><th scope=col>&lt;dbl&gt;</th><th scope=col>&lt;dbl&gt;</th></tr>\n",
       "</thead>\n",
       "<tbody>\n",
       "\t<tr><th scope=row>(Intercept)</th><td>1</td><td>21</td><td>194.99645</td><td>0.0000000000042411</td></tr>\n",
       "\t<tr><th scope=row>condition</th><td>1</td><td>21</td><td>  0.99562</td><td>0.3297328777121460</td></tr>\n",
       "</tbody>\n",
       "</table>\n"
      ],
      "text/latex": [
       "A anova.lme: 2 × 4\n",
       "\\begin{tabular}{r|llll}\n",
       "  & numDF & denDF & F-value & p-value\\\\\n",
       "  & <int> & <dbl> & <dbl> & <dbl>\\\\\n",
       "\\hline\n",
       "\t(Intercept) & 1 & 21 & 194.99645 & 0.0000000000042411\\\\\n",
       "\tcondition & 1 & 21 &   0.99562 & 0.3297328777121460\\\\\n",
       "\\end{tabular}\n"
      ],
      "text/markdown": [
       "\n",
       "A anova.lme: 2 × 4\n",
       "\n",
       "| <!--/--> | numDF &lt;int&gt; | denDF &lt;dbl&gt; | F-value &lt;dbl&gt; | p-value &lt;dbl&gt; |\n",
       "|---|---|---|---|---|\n",
       "| (Intercept) | 1 | 21 | 194.99645 | 0.0000000000042411 |\n",
       "| condition | 1 | 21 |   0.99562 | 0.3297328777121460 |\n",
       "\n"
      ],
      "text/plain": [
       "            numDF denDF F-value   p-value           \n",
       "(Intercept) 1     21    194.99645 0.0000000000042411\n",
       "condition   1     21      0.99562 0.3297328777121460"
      ]
     },
     "metadata": {},
     "output_type": "display_data"
    }
   ],
   "source": [
    "human_mixed1 <- lme(human ~ condition,random=~1|participant,data=data)\n",
    "summary(human_mixed1)\n",
    "anova(human_mixed1)"
   ]
  },
  {
   "cell_type": "markdown",
   "id": "6c3b8b35-3c1b-46e1-a7dc-a34deb34dac8",
   "metadata": {},
   "source": [
    "### Mixed-Effects of Perceived Trust"
   ]
  },
  {
   "cell_type": "code",
   "execution_count": 12,
   "id": "78882de0-4bbc-4ead-8e7b-1b8d69e5bc47",
   "metadata": {},
   "outputs": [
    {
     "data": {
      "text/plain": [
       "Linear mixed-effects model fit by REML\n",
       "  Data: data \n",
       "     AIC    BIC logLik\n",
       "  127.52 134.47 -59.76\n",
       "\n",
       "Random effects:\n",
       " Formula: ~1 | participant\n",
       "        (Intercept) Residual\n",
       "StdDev:     0.96255  0.58683\n",
       "\n",
       "Fixed effects:  trust ~ condition \n",
       "              Value Std.Error DF t-value p-value\n",
       "(Intercept)  3.4437   0.24035 21 14.3278  0.0000\n",
       "conditionVI -0.4526   0.17694 21 -2.5578  0.0183\n",
       " Correlation: \n",
       "            (Intr)\n",
       "conditionVI -0.368\n",
       "\n",
       "Standardized Within-Group Residuals:\n",
       "     Min       Q1      Med       Q3      Max \n",
       "-1.18704 -0.40129 -0.16321  0.23968  2.48066 \n",
       "\n",
       "Number of Observations: 44\n",
       "Number of Groups: 22 "
      ]
     },
     "metadata": {},
     "output_type": "display_data"
    },
    {
     "data": {
      "text/html": [
       "<table class=\"dataframe\">\n",
       "<caption>A anova.lme: 2 × 4</caption>\n",
       "<thead>\n",
       "\t<tr><th></th><th scope=col>numDF</th><th scope=col>denDF</th><th scope=col>F-value</th><th scope=col>p-value</th></tr>\n",
       "\t<tr><th></th><th scope=col>&lt;int&gt;</th><th scope=col>&lt;dbl&gt;</th><th scope=col>&lt;dbl&gt;</th><th scope=col>&lt;dbl&gt;</th></tr>\n",
       "</thead>\n",
       "<tbody>\n",
       "\t<tr><th scope=row>(Intercept)</th><td>1</td><td>21</td><td>207.2758</td><td>0.000000000002367</td></tr>\n",
       "\t<tr><th scope=row>condition</th><td>1</td><td>21</td><td>  6.5424</td><td>0.018329136966403</td></tr>\n",
       "</tbody>\n",
       "</table>\n"
      ],
      "text/latex": [
       "A anova.lme: 2 × 4\n",
       "\\begin{tabular}{r|llll}\n",
       "  & numDF & denDF & F-value & p-value\\\\\n",
       "  & <int> & <dbl> & <dbl> & <dbl>\\\\\n",
       "\\hline\n",
       "\t(Intercept) & 1 & 21 & 207.2758 & 0.000000000002367\\\\\n",
       "\tcondition & 1 & 21 &   6.5424 & 0.018329136966403\\\\\n",
       "\\end{tabular}\n"
      ],
      "text/markdown": [
       "\n",
       "A anova.lme: 2 × 4\n",
       "\n",
       "| <!--/--> | numDF &lt;int&gt; | denDF &lt;dbl&gt; | F-value &lt;dbl&gt; | p-value &lt;dbl&gt; |\n",
       "|---|---|---|---|---|\n",
       "| (Intercept) | 1 | 21 | 207.2758 | 0.000000000002367 |\n",
       "| condition | 1 | 21 |   6.5424 | 0.018329136966403 |\n",
       "\n"
      ],
      "text/plain": [
       "            numDF denDF F-value  p-value          \n",
       "(Intercept) 1     21    207.2758 0.000000000002367\n",
       "condition   1     21      6.5424 0.018329136966403"
      ]
     },
     "metadata": {},
     "output_type": "display_data"
    }
   ],
   "source": [
    "trust_mixed1 <- lme(trust ~ condition,random=~1|participant,data=data)\n",
    "summary(trust_mixed1)\n",
    "anova(trust_mixed1)"
   ]
  },
  {
   "cell_type": "markdown",
   "id": "27c59a10-a236-4d62-924f-7c26a794124e",
   "metadata": {},
   "source": [
    "### Mixed-Effects of Perceived Uncanniness"
   ]
  },
  {
   "cell_type": "code",
   "execution_count": 13,
   "id": "f2900e85-d9f8-4507-9651-e4b2dcabbe8e",
   "metadata": {},
   "outputs": [
    {
     "data": {
      "text/plain": [
       "Linear mixed-effects model fit by REML\n",
       "  Data: data \n",
       "     AIC    BIC  logLik\n",
       "  113.59 120.54 -52.794\n",
       "\n",
       "Random effects:\n",
       " Formula: ~1 | participant\n",
       "        (Intercept) Residual\n",
       "StdDev:     0.91698  0.45436\n",
       "\n",
       "Fixed effects:  uncanny ~ condition \n",
       "              Value Std.Error DF t-value p-value\n",
       "(Intercept)  3.4356   0.21818 21 15.7465  0.0000\n",
       "conditionVI -0.2024   0.13700 21 -1.4774  0.1544\n",
       " Correlation: \n",
       "            (Intr)\n",
       "conditionVI -0.314\n",
       "\n",
       "Standardized Within-Group Residuals:\n",
       "      Min        Q1       Med        Q3       Max \n",
       "-1.653005 -0.464092 -0.031528  0.345173  1.932881 \n",
       "\n",
       "Number of Observations: 44\n",
       "Number of Groups: 22 "
      ]
     },
     "metadata": {},
     "output_type": "display_data"
    },
    {
     "data": {
      "text/html": [
       "<table class=\"dataframe\">\n",
       "<caption>A anova.lme: 2 × 4</caption>\n",
       "<thead>\n",
       "\t<tr><th></th><th scope=col>numDF</th><th scope=col>denDF</th><th scope=col>F-value</th><th scope=col>p-value</th></tr>\n",
       "\t<tr><th></th><th scope=col>&lt;int&gt;</th><th scope=col>&lt;dbl&gt;</th><th scope=col>&lt;dbl&gt;</th><th scope=col>&lt;dbl&gt;</th></tr>\n",
       "</thead>\n",
       "<tbody>\n",
       "\t<tr><th scope=row>(Intercept)</th><td>1</td><td>21</td><td>259.0958</td><td>0.000000000000274</td></tr>\n",
       "\t<tr><th scope=row>condition</th><td>1</td><td>21</td><td>  2.1828</td><td>0.154405922868974</td></tr>\n",
       "</tbody>\n",
       "</table>\n"
      ],
      "text/latex": [
       "A anova.lme: 2 × 4\n",
       "\\begin{tabular}{r|llll}\n",
       "  & numDF & denDF & F-value & p-value\\\\\n",
       "  & <int> & <dbl> & <dbl> & <dbl>\\\\\n",
       "\\hline\n",
       "\t(Intercept) & 1 & 21 & 259.0958 & 0.000000000000274\\\\\n",
       "\tcondition & 1 & 21 &   2.1828 & 0.154405922868974\\\\\n",
       "\\end{tabular}\n"
      ],
      "text/markdown": [
       "\n",
       "A anova.lme: 2 × 4\n",
       "\n",
       "| <!--/--> | numDF &lt;int&gt; | denDF &lt;dbl&gt; | F-value &lt;dbl&gt; | p-value &lt;dbl&gt; |\n",
       "|---|---|---|---|---|\n",
       "| (Intercept) | 1 | 21 | 259.0958 | 0.000000000000274 |\n",
       "| condition | 1 | 21 |   2.1828 | 0.154405922868974 |\n",
       "\n"
      ],
      "text/plain": [
       "            numDF denDF F-value  p-value          \n",
       "(Intercept) 1     21    259.0958 0.000000000000274\n",
       "condition   1     21      2.1828 0.154405922868974"
      ]
     },
     "metadata": {},
     "output_type": "display_data"
    }
   ],
   "source": [
    "uncanny_mixed1 <- lme(uncanny ~ condition,random=~1|participant,data=data)\n",
    "summary(uncanny_mixed1)\n",
    "anova(uncanny_mixed1)"
   ]
  },
  {
   "cell_type": "markdown",
   "id": "9a0a2f77-98e1-4a2f-b9ab-3e6c9b8ebd57",
   "metadata": {},
   "source": [
    "### Mixed-Effects of Intention to Follow the Influencer's Recommendations"
   ]
  },
  {
   "cell_type": "code",
   "execution_count": 14,
   "id": "df07c578-3133-4da1-9e6b-4c5ed380407f",
   "metadata": {},
   "outputs": [
    {
     "data": {
      "text/plain": [
       "Linear mixed-effects model fit by REML\n",
       "  Data: data \n",
       "    AIC    BIC  logLik\n",
       "  137.8 144.75 -64.901\n",
       "\n",
       "Random effects:\n",
       " Formula: ~1 | participant\n",
       "        (Intercept) Residual\n",
       "StdDev:     0.95138   0.7267\n",
       "\n",
       "Fixed effects:  use ~ condition \n",
       "              Value Std.Error DF t-value p-value\n",
       "(Intercept)  3.6823   0.25524 21 14.4271   0.000\n",
       "conditionVI -0.4694   0.21911 21 -2.1423   0.044\n",
       " Correlation: \n",
       "            (Intr)\n",
       "conditionVI -0.429\n",
       "\n",
       "Standardized Within-Group Residuals:\n",
       "     Min       Q1      Med       Q3      Max \n",
       "-1.60648 -0.41109 -0.13106  0.21058  2.24908 \n",
       "\n",
       "Number of Observations: 44\n",
       "Number of Groups: 22 "
      ]
     },
     "metadata": {},
     "output_type": "display_data"
    },
    {
     "data": {
      "text/html": [
       "<table class=\"dataframe\">\n",
       "<caption>A anova.lme: 2 × 4</caption>\n",
       "<thead>\n",
       "\t<tr><th></th><th scope=col>numDF</th><th scope=col>denDF</th><th scope=col>F-value</th><th scope=col>p-value</th></tr>\n",
       "\t<tr><th></th><th scope=col>&lt;int&gt;</th><th scope=col>&lt;dbl&gt;</th><th scope=col>&lt;dbl&gt;</th><th scope=col>&lt;dbl&gt;</th></tr>\n",
       "</thead>\n",
       "<tbody>\n",
       "\t<tr><th scope=row>(Intercept)</th><td>1</td><td>21</td><td>223.6596</td><td>0.0000000000011398</td></tr>\n",
       "\t<tr><th scope=row>condition</th><td>1</td><td>21</td><td>  4.5896</td><td>0.0440418421137447</td></tr>\n",
       "</tbody>\n",
       "</table>\n"
      ],
      "text/latex": [
       "A anova.lme: 2 × 4\n",
       "\\begin{tabular}{r|llll}\n",
       "  & numDF & denDF & F-value & p-value\\\\\n",
       "  & <int> & <dbl> & <dbl> & <dbl>\\\\\n",
       "\\hline\n",
       "\t(Intercept) & 1 & 21 & 223.6596 & 0.0000000000011398\\\\\n",
       "\tcondition & 1 & 21 &   4.5896 & 0.0440418421137447\\\\\n",
       "\\end{tabular}\n"
      ],
      "text/markdown": [
       "\n",
       "A anova.lme: 2 × 4\n",
       "\n",
       "| <!--/--> | numDF &lt;int&gt; | denDF &lt;dbl&gt; | F-value &lt;dbl&gt; | p-value &lt;dbl&gt; |\n",
       "|---|---|---|---|---|\n",
       "| (Intercept) | 1 | 21 | 223.6596 | 0.0000000000011398 |\n",
       "| condition | 1 | 21 |   4.5896 | 0.0440418421137447 |\n",
       "\n"
      ],
      "text/plain": [
       "            numDF denDF F-value  p-value           \n",
       "(Intercept) 1     21    223.6596 0.0000000000011398\n",
       "condition   1     21      4.5896 0.0440418421137447"
      ]
     },
     "metadata": {},
     "output_type": "display_data"
    }
   ],
   "source": [
    "use_mixed1 <- lme(use ~ condition,random=~1|participant,data=data)\n",
    "summary(use_mixed1)\n",
    "anova(use_mixed1)"
   ]
  }
 ],
 "metadata": {
  "kernelspec": {
   "display_name": "R",
   "language": "R",
   "name": "ir"
  },
  "language_info": {
   "codemirror_mode": "r",
   "file_extension": ".r",
   "mimetype": "text/x-r-source",
   "name": "R",
   "pygments_lexer": "r",
   "version": "4.1.3"
  }
 },
 "nbformat": 4,
 "nbformat_minor": 5
}
